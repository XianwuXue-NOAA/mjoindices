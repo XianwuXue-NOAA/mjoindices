{
 "cells": [
  {
   "cell_type": "markdown",
   "metadata": {},
   "source": [
    "# License\n",
    "Copyright (C) 2019 Christoph G. Hoffmann. All rights reserved.\n",
    "\n",
    "This file is part of mjoindices\n",
    "\n",
    "This program is free software: you can redistribute it and/or modify it under the terms of the GNU General Public License as published by the Free Software Foundation, either version 3 of the License, or (at your option) any later version.\n",
    "\n",
    "This program is distributed in the hope that it will be useful, but WITHOUT ANY WARRANTY; without even the implied warranty of MERCHANTABILITY or FITNESS FOR A PARTICULAR PURPOSE.  See the GNU General Public License for more details.\n",
    "\n",
    "You should have received a copy of the GNU General Public License along with this program.  If not, see <https://www.gnu.org/licenses/>.\n",
    "\n",
    "Contact: christoph.hoffmann@uni-greifswald.de"
   ]
  },
  {
   "cell_type": "markdown",
   "metadata": {},
   "source": [
    "# Before you start\n",
    "This example reproduces the original OMI values described in Kiladis, G.N., J. Dias, K.H. Straub, M.C. Wheeler, S.N. Tulich, K. Kikuchi, K.M. Weickmann, and M.J. Ventrice, 2014: A Comparison of OLR and Circulation-Based Indices for Tracking the MJO. Mon. Wea. Rev., 142, 1697–1715, https://doi.org/10.1175/MWR-D-13-00301.1\n",
    "\n",
    "The script may run for about 2 hours on common desktop computers. <span style=\"color:red\">The cells, which take most of the time, are commented in red</span>.\n",
    "\n",
    "You can modify this example in order to compute OMI data from other OLR datasets (this is probably what you intend if you use this package). For this, you only have to provide your OLR data as a mjoindices.olr_handling.OLRData object and <span style=\"color:green\"> use it in two cells below, which are commented in green</span>.\n",
    "\n",
    "This example also produces some diagnostic plots. More evalutation can be done afterwards with the included notebook evaluate_omi_reproduction.ipynb .\n",
    "\n"
   ]
  },
  {
   "cell_type": "markdown",
   "metadata": {},
   "source": [
    "# Preparation of the recalculation\n",
    "## Imports"
   ]
  },
  {
   "cell_type": "code",
   "execution_count": 2,
   "metadata": {
    "pycharm": {
     "is_executing": false
    }
   },
   "outputs": [],
   "source": [
    "from pathlib import Path\n",
    "import os.path\n",
    "import inspect\n",
    "\n",
    "import mjoindices.olr_handling as olr\n",
    "import mjoindices.omi.omi_calculator as omi\n",
    "import mjoindices.empirical_orthogonal_functions as eof\n",
    "import mjoindices.principal_components as pc\n",
    "import mjoindices.evaluation_tools\n",
    "import numpy as np"
   ]
  },
  {
   "cell_type": "markdown",
   "metadata": {},
   "source": [
    "## Settings.\n",
    "Adjust the settings and filenames according to your system here.\n",
    "\n"
   ]
  },
  {
   "cell_type": "markdown",
   "metadata": {},
   "source": [
    "### DOY for details\n",
    "Select the DOY, for which you would like to see a detailed comparison of the EOFs (number between 1 and 366).\n",
    "E.g., DOY 23 is among the best agreements and DOY 218 has the worst agreement."
   ]
  },
  {
   "cell_type": "code",
   "execution_count": 3,
   "metadata": {
    "pycharm": {
     "is_executing": false
    }
   },
   "outputs": [],
   "source": [
    "doy=23"
   ]
  },
  {
   "cell_type": "markdown",
   "metadata": {},
   "source": [
    "### Period, for which the PC time series are plotted\n",
    "Select the start and end date."
   ]
  },
  {
   "cell_type": "code",
   "execution_count": 4,
   "metadata": {
    "pycharm": {
     "is_executing": false
    }
   },
   "outputs": [],
   "source": [
    "pc_plot_period_start=np.datetime64(\"2011-01-01\")\n",
    "pc_plot_period_stop=np.datetime64(\"2011-12-31\")"
   ]
  },
  {
   "cell_type": "markdown",
   "metadata": {},
   "source": [
    "\n",
    "### External input files\n",
    "**Original OLR data**: Download the data file from ftp://ftp.cdc.noaa.gov/Datasets/interp_OLR/olr.day.mean.nc to your local file system and adjust the local path below.\n",
    "\n",
    "Note: If you have set up the test suite using the reference data package (https://doi.org/10.5281/zenodo.3746562) and if you have kept the original directory structure, the following default setting should directly work."
   ]
  },
  {
   "cell_type": "code",
   "execution_count": 5,
   "metadata": {
    "pycharm": {
     "is_executing": false
    }
   },
   "outputs": [],
   "source": [
    "olr_data_filename = Path(os.path.abspath('')).parents[0] / \"tests\" / \"testdata\" / \"olr.day.mean.nc\""
   ]
  },
  {
   "cell_type": "markdown",
   "metadata": {},
   "source": [
    "**Original EOF functions**: The following directory should contain the two subdirectories \"eof1\" and \"eof2\", which should contain the files downloaded from ftp://ftp.cdc.noaa.gov/Datasets.other/MJO/eof1/ and ftp://ftp.cdc.noaa.gov/Datasets.other/MJO/eof2/, respectively.\n",
    "\n",
    "Note: If you have set up the test suite using the reference data package (https://doi.org/10.5281/zenodo.3746562) and if you have kept the original directory structure, the following default setting should directly work."
   ]
  },
  {
   "cell_type": "code",
   "execution_count": 6,
   "metadata": {
    "pycharm": {
     "is_executing": false
    }
   },
   "outputs": [],
   "source": [
    "originalOMIDataDirname = Path(os.path.abspath('')).parents[0] / \"tests\" / \"testdata\" / \"OriginalOMI\""
   ]
  },
  {
   "cell_type": "markdown",
   "metadata": {},
   "source": [
    "**Original OMI PC values**: Download the original OMI values from https://www.esrl.noaa.gov/psd/mjo/mjoindex/omi.1x.txt to your local file system and adjust the local path below.\n",
    "\n",
    "Note: If you have set up the test suite using the reference data package (https://doi.org/10.5281/zenodo.3746562) and if you have kept the original directory structure, the following default setting should directly work."
   ]
  },
  {
   "cell_type": "code",
   "execution_count": 7,
   "metadata": {
    "pycharm": {
     "is_executing": false
    }
   },
   "outputs": [],
   "source": [
    "originalOMIPCFile = Path(os.path.abspath('')).parents[0] / \"tests\" / \"testdata\" / \"OriginalOMI\" / \"omi.1x.txt\""
   ]
  },
  {
   "cell_type": "markdown",
   "metadata": {},
   "source": [
    "### Recalculation output files\n",
    "\n",
    "**The recalculated EOF values**: Saved in the following file."
   ]
  },
  {
   "cell_type": "code",
   "execution_count": 8,
   "metadata": {
    "pycharm": {
     "is_executing": false
    }
   },
   "outputs": [],
   "source": [
    "eofnpzfile = Path(os.path.dirname(os.path.abspath(inspect.getfile(inspect.currentframe())))).parents[0] / \"examples\" / \"example_data\" / \"EOFs.npz\""
   ]
  },
  {
   "cell_type": "markdown",
   "metadata": {},
   "source": [
    "**The recalculated PC values**: Saved in the following file."
   ]
  },
  {
   "cell_type": "code",
   "execution_count": 9,
   "metadata": {
    "pycharm": {
     "is_executing": false
    }
   },
   "outputs": [],
   "source": [
    "pctxtfile = Path(os.path.dirname(os.path.abspath(inspect.getfile(inspect.currentframe())))).parents[0] / \"examples\" / \"example_data\" / \"PCs.txt\""
   ]
  },
  {
   "cell_type": "markdown",
   "metadata": {},
   "source": [
    "**The directory, in which the figures are saved**:"
   ]
  },
  {
   "cell_type": "code",
   "execution_count": 10,
   "metadata": {
    "pycharm": {
     "is_executing": false
    }
   },
   "outputs": [],
   "source": [
    "fig_dir = Path(os.path.dirname(os.path.abspath(inspect.getfile(inspect.currentframe())))) / \"example_data\" / \"omi_recalc_example_plots\"\n",
    "if not fig_dir.exists():\n",
    "    fig_dir.mkdir(parents=True, exist_ok=False)"
   ]
  },
  {
   "cell_type": "markdown",
   "metadata": {},
   "source": [
    "# Recalculation of the EOFs\n",
    "\n",
    "There should be no need to change anything below (except you intend to use different OLR data as input.)\n",
    "\n",
    "## Preparation of the OLR data\n",
    "\n",
    "**Load** the original OLR data.\n",
    "\n",
    "<span style=\"color:green\">Note that this is the first of only two lines that have to be changed if you want to compute OMI for a different OLR dataset: Write a loader function for this dataset and replace the following line with a call of this function.</span>"
   ]
  },
  {
   "cell_type": "code",
   "execution_count": 11,
   "metadata": {
    "pycharm": {
     "is_executing": false
    }
   },
   "outputs": [],
   "source": [
    "raw_olr = olr.load_noaa_interpolated_olr(olr_data_filename)"
   ]
  },
  {
   "cell_type": "markdown",
   "metadata": {},
   "source": [
    "Restrict dataset to the original length for the EOF calculation."
   ]
  },
  {
   "cell_type": "code",
   "execution_count": 12,
   "metadata": {
    "pycharm": {
     "is_executing": false
    }
   },
   "outputs": [],
   "source": [
    "shorter_olr = olr.restrict_time_coverage(raw_olr, np.datetime64('1979-01-01'), np.datetime64('2012-12-31'))"
   ]
  },
  {
   "cell_type": "markdown",
   "metadata": {},
   "source": [
    "Make sure that the spatial sampling resembles the original one (This should not be necessary here, since we use the original data file. Nevertheless, we want to be sure.)."
   ]
  },
  {
   "cell_type": "code",
   "execution_count": 13,
   "metadata": {
    "pycharm": {
     "is_executing": false
    }
   },
   "outputs": [],
   "source": [
    "interpolated_olr = olr.interpolate_spatial_grid_to_original(shorter_olr)"
   ]
  },
  {
   "cell_type": "markdown",
   "metadata": {},
   "source": [
    "**Diagnosis plot** of the loaded OLR data."
   ]
  },
  {
   "cell_type": "code",
   "execution_count": 14,
   "metadata": {
    "pycharm": {
     "is_executing": false
    }
   },
   "outputs": [
    {
     "name": "stderr",
     "output_type": "stream",
     "text": [
      "C:\\Users\\ssg37927\\AppData\\Local\\Continuum\\anaconda3\\lib\\site-packages\\matplotlib\\figure.py:457: UserWarning: matplotlib is currently using a non-GUI backend, so cannot show the figure\n",
      "  \"matplotlib is currently using a non-GUI backend, \"\n"
     ]
    },
    {
     "data": {
      "image/png": "[encoded data removed]",
      "text/plain": [
       "<Figure size 1500x750 with 2 Axes>"
      ]
     },
     "metadata": {
      "needs_background": "light"
     },
     "output_type": "display_data"
    }
   ],
   "source": [
    "fig = olr.plot_olr_map_for_date(interpolated_olr, np.datetime64(\"2010-01-01\"))\n",
    "fig.show()\n",
    "fig.savefig(fig_dir / \"OLR_map.png\")"
   ]
  },
  {
   "cell_type": "markdown",
   "metadata": {},
   "source": [
    "## Calculation of the EOFs\n",
    "\n",
    "Some details regarding the **calculation options**:\n",
    "\n",
    "During the postprocessing, which is part of the recalculation, two optional steps can be execuated (see Kiladis, 2014, for details):\n",
    "* The signs of the EOFs are adjusted (**sign_doy1reference**=True)\n",
    "* The EOFs in a period around DOY 300 are replaced by an interpolation (**interpolate_eofs**=True)\n",
    "\n",
    "The switch **strict_leap_year_treatment** has major implications only for the EOFs calculated for DOY 366 and causes only minor differences for the other DOYs. While the results for setting strict_leap_year_treatment=False are closer to the original values, the calculation strict_leap_year_treatment=True is somewhat more stringently implemented using built-in datetime functionality. See documentation of mjoindices.tools.find_doy_ranges_in_dates() for details.\n",
    "\n",
    "<span style=\"color:red\">This part takes most of the computation time.</span> Skip the following cell, if you have already computed and saved the EOFs before."
   ]
  },
  {
   "cell_type": "code",
   "execution_count": 15,
   "metadata": {
    "pycharm": {
     "is_executing": true
    }
   },
   "outputs": [
    {
     "name": "stdout",
     "output_type": "stream",
     "text": [
      "Smooth data temporally and longitudinally...\n",
      "Filtering for latitude:  -20.0\n",
      "Filtering for latitude:  -17.5\n",
      "Filtering for latitude:  -15.0\n",
      "Filtering for latitude:  -12.5\n",
      "Filtering for latitude:  -10.0\n",
      "Filtering for latitude:  -7.5\n",
      "Filtering for latitude:  -5.0\n",
      "Filtering for latitude:  -2.5\n",
      "Filtering for latitude:  0.0\n",
      "Filtering for latitude:  2.5\n",
      "Filtering for latitude:  5.0\n",
      "Filtering for latitude:  7.5\n",
      "Filtering for latitude:  10.0\n",
      "Filtering for latitude:  12.5\n",
      "Filtering for latitude:  15.0\n",
      "Filtering for latitude:  17.5\n",
      "Filtering for latitude:  20.0\n",
      "Calculating EOFs for DOY 1\n"
     ]
    },
    {
     "ename": "TypeError",
     "evalue": "flip() missing 1 required positional argument: 'axis'",
     "output_type": "error",
     "traceback": [
      "\u001b[1;31m---------------------------------------------------------------------------\u001b[0m",
      "\u001b[1;31mTypeError\u001b[0m                                 Traceback (most recent call last)",
      "\u001b[1;32m<ipython-input-15-421edd9920bc>\u001b[0m in \u001b[0;36m<module>\u001b[1;34m()\u001b[0m\n\u001b[0;32m      2\u001b[0m                              \u001b[0msign_doy1reference\u001b[0m\u001b[1;33m=\u001b[0m\u001b[1;32mTrue\u001b[0m\u001b[1;33m,\u001b[0m\u001b[1;33m\u001b[0m\u001b[0m\n\u001b[0;32m      3\u001b[0m                              \u001b[0minterpolate_eofs\u001b[0m\u001b[1;33m=\u001b[0m\u001b[1;32mTrue\u001b[0m\u001b[1;33m,\u001b[0m\u001b[1;33m\u001b[0m\u001b[0m\n\u001b[1;32m----> 4\u001b[1;33m                              strict_leap_year_treatment=False)\n\u001b[0m\u001b[0;32m      5\u001b[0m \u001b[0meofs\u001b[0m\u001b[1;33m.\u001b[0m\u001b[0msave_all_eofs_to_npzfile\u001b[0m\u001b[1;33m(\u001b[0m\u001b[0meofnpzfile\u001b[0m\u001b[1;33m)\u001b[0m\u001b[1;33m\u001b[0m\u001b[0m\n",
      "\u001b[1;32m~\\AppData\\Local\\Continuum\\anaconda3\\lib\\site-packages\\mjoindices\\omi\\omi_calculator.py\u001b[0m in \u001b[0;36mcalc_eofs_from_olr\u001b[1;34m(olrdata, implementation, sign_doy1reference, interpolate_eofs, interpolation_start_doy, interpolation_end_doy, strict_leap_year_treatment)\u001b[0m\n\u001b[0;32m     83\u001b[0m     \"\"\"\n\u001b[0;32m     84\u001b[0m     \u001b[0mpreprocessed_olr\u001b[0m \u001b[1;33m=\u001b[0m \u001b[0mpreprocess_olr\u001b[0m\u001b[1;33m(\u001b[0m\u001b[0molrdata\u001b[0m\u001b[1;33m)\u001b[0m\u001b[1;33m\u001b[0m\u001b[0m\n\u001b[1;32m---> 85\u001b[1;33m     \u001b[0mraw_eofs\u001b[0m \u001b[1;33m=\u001b[0m \u001b[0mcalc_eofs_from_preprocessed_olr\u001b[0m\u001b[1;33m(\u001b[0m\u001b[0mpreprocessed_olr\u001b[0m\u001b[1;33m,\u001b[0m \u001b[0mimplementation\u001b[0m\u001b[1;33m=\u001b[0m\u001b[0mimplementation\u001b[0m\u001b[1;33m,\u001b[0m \u001b[0mstrict_leap_year_treatment\u001b[0m\u001b[1;33m=\u001b[0m\u001b[0mstrict_leap_year_treatment\u001b[0m\u001b[1;33m)\u001b[0m\u001b[1;33m\u001b[0m\u001b[0m\n\u001b[0m\u001b[0;32m     86\u001b[0m     result = post_process_eofs(raw_eofs, sign_doy1reference=sign_doy1reference, interpolate_eofs=interpolate_eofs,\n\u001b[0;32m     87\u001b[0m                                \u001b[0minterpolation_start_doy\u001b[0m\u001b[1;33m=\u001b[0m\u001b[0minterpolation_start_doy\u001b[0m\u001b[1;33m,\u001b[0m\u001b[1;33m\u001b[0m\u001b[0m\n",
      "\u001b[1;32m~\\AppData\\Local\\Continuum\\anaconda3\\lib\\site-packages\\mjoindices\\omi\\omi_calculator.py\u001b[0m in \u001b[0;36mcalc_eofs_from_preprocessed_olr\u001b[1;34m(olrdata, implementation, strict_leap_year_treatment)\u001b[0m\n\u001b[0;32m    135\u001b[0m                                                              strict_leap_year_treatment=strict_leap_year_treatment)\n\u001b[0;32m    136\u001b[0m         \u001b[1;32melse\u001b[0m\u001b[1;33m:\u001b[0m\u001b[1;33m\u001b[0m\u001b[0m\n\u001b[1;32m--> 137\u001b[1;33m             \u001b[0msingleeof\u001b[0m \u001b[1;33m=\u001b[0m \u001b[0mcalc_eofs_for_doy\u001b[0m\u001b[1;33m(\u001b[0m\u001b[0molrdata\u001b[0m\u001b[1;33m,\u001b[0m \u001b[0mdoy\u001b[0m\u001b[1;33m,\u001b[0m \u001b[0mstrict_leap_year_treatment\u001b[0m\u001b[1;33m=\u001b[0m\u001b[0mstrict_leap_year_treatment\u001b[0m\u001b[1;33m)\u001b[0m\u001b[1;33m\u001b[0m\u001b[0m\n\u001b[0m\u001b[0;32m    138\u001b[0m         \u001b[0meofs\u001b[0m\u001b[1;33m.\u001b[0m\u001b[0mappend\u001b[0m\u001b[1;33m(\u001b[0m\u001b[0msingleeof\u001b[0m\u001b[1;33m)\u001b[0m\u001b[1;33m\u001b[0m\u001b[0m\n\u001b[0;32m    139\u001b[0m     \u001b[1;32mreturn\u001b[0m \u001b[0meof\u001b[0m\u001b[1;33m.\u001b[0m\u001b[0mEOFDataForAllDOYs\u001b[0m\u001b[1;33m(\u001b[0m\u001b[0meofs\u001b[0m\u001b[1;33m)\u001b[0m\u001b[1;33m\u001b[0m\u001b[0m\n",
      "\u001b[1;32m~\\AppData\\Local\\Continuum\\anaconda3\\lib\\site-packages\\mjoindices\\omi\\omi_calculator.py\u001b[0m in \u001b[0;36mcalc_eofs_for_doy\u001b[1;34m(olrdata, doy, strict_leap_year_treatment)\u001b[0m\n\u001b[0;32m    201\u001b[0m         \u001b[0mwarnings\u001b[0m\u001b[1;33m.\u001b[0m\u001b[0mwarn\u001b[0m\u001b[1;33m(\u001b[0m\u001b[1;34m\"Imaginary part of at least one Eigenvalue greater than expected. Neglecting it anyway\"\u001b[0m\u001b[1;33m)\u001b[0m\u001b[1;33m\u001b[0m\u001b[0m\n\u001b[0;32m    202\u001b[0m     \u001b[0mL\u001b[0m \u001b[1;33m=\u001b[0m \u001b[0mnp\u001b[0m\u001b[1;33m.\u001b[0m\u001b[0mreal\u001b[0m\u001b[1;33m(\u001b[0m\u001b[0mL\u001b[0m\u001b[1;33m)\u001b[0m\u001b[1;33m\u001b[0m\u001b[0m\n\u001b[1;32m--> 203\u001b[1;33m     \u001b[0morder\u001b[0m \u001b[1;33m=\u001b[0m \u001b[1;33m(\u001b[0m\u001b[0mnp\u001b[0m\u001b[1;33m.\u001b[0m\u001b[0mflip\u001b[0m\u001b[1;33m(\u001b[0m\u001b[0mL\u001b[0m\u001b[1;33m.\u001b[0m\u001b[0margsort\u001b[0m\u001b[1;33m(\u001b[0m\u001b[1;33m)\u001b[0m\u001b[1;33m)\u001b[0m\u001b[1;33m)\u001b[0m\u001b[1;33m\u001b[0m\u001b[0m\n\u001b[0m\u001b[0;32m    204\u001b[0m     \u001b[0mL\u001b[0m \u001b[1;33m=\u001b[0m \u001b[0mL\u001b[0m\u001b[1;33m[\u001b[0m\u001b[0morder\u001b[0m\u001b[1;33m]\u001b[0m\u001b[1;33m\u001b[0m\u001b[0m\n\u001b[0;32m    205\u001b[0m     \u001b[0mtotal_var\u001b[0m \u001b[1;33m=\u001b[0m \u001b[0mnp\u001b[0m\u001b[1;33m.\u001b[0m\u001b[0msum\u001b[0m\u001b[1;33m(\u001b[0m\u001b[0mL\u001b[0m\u001b[1;33m)\u001b[0m\u001b[1;33m\u001b[0m\u001b[0m\n",
      "\u001b[1;31mTypeError\u001b[0m: flip() missing 1 required positional argument: 'axis'"
     ]
    }
   ],
   "source": [
    "eofs = omi.calc_eofs_from_olr(interpolated_olr,\n",
    "                             sign_doy1reference=True,\n",
    "                             interpolate_eofs=True,\n",
    "                             strict_leap_year_treatment=False)\n",
    "eofs.save_all_eofs_to_npzfile(eofnpzfile)"
   ]
  },
  {
   "cell_type": "markdown",
   "metadata": {},
   "source": [
    "## Evaluation of the EOFs\n",
    "\n",
    "Load the original EOFs for comparison.\n",
    "\n",
    "Also load the recalculated EOFs from file first, just in case that they have not been recomputed during this session."
   ]
  },
  {
   "cell_type": "code",
   "execution_count": null,
   "metadata": {
    "pycharm": {
     "is_executing": true
    }
   },
   "outputs": [],
   "source": [
    "orig_eofs = eof.load_all_original_eofs_from_directory(originalOMIDataDirname)\n",
    "eofs = eof.restore_all_eofs_from_npzfile(eofnpzfile)"
   ]
  },
  {
   "cell_type": "markdown",
   "metadata": {},
   "source": [
    "Check the **correlations and further statistics** between the EOFs for each DOY individually:"
   ]
  },
  {
   "cell_type": "code",
   "execution_count": null,
   "metadata": {
    "pycharm": {
     "is_executing": true
    }
   },
   "outputs": [],
   "source": [
    "fig = mjoindices.evaluation_tools.plot_comparison_stats_for_eofs_all_doys (eofs, orig_eofs, exclude_doy366=False, do_print=True)\n",
    "fig.show()\n",
    "fig.savefig(fig_dir / \"EOFs_CorrelationWithOriginal.png\")"
   ]
  },
  {
   "cell_type": "markdown",
   "metadata": {},
   "source": [
    "Show the **explained variances** of the recalculation. Values are about a factor of 2. lower than in Kiladis, 2014, which is correct!"
   ]
  },
  {
   "cell_type": "code",
   "execution_count": null,
   "metadata": {
    "pycharm": {
     "is_executing": true
    }
   },
   "outputs": [],
   "source": [
    "fig = eof.plot_explained_variance_for_all_doys(eofs)\n",
    "fig.show()\n",
    "fig.savefig(fig_dir / \"EOFs_ExplainedVariance.png\")"
   ]
  },
  {
   "cell_type": "markdown",
   "metadata": {},
   "source": [
    "Show a **detailed comparison of individual EOFs** for the particular DOY selected above.\n",
    "\n",
    "*Maps of EOF1 and EOF2:*"
   ]
  },
  {
   "cell_type": "code",
   "execution_count": null,
   "metadata": {
    "pycharm": {
     "is_executing": true
    }
   },
   "outputs": [],
   "source": [
    "fig = eof.plot_individual_eof_map(eofs.eofdata_for_doy(doy), doy)\n",
    "fig.show()\n",
    "fig.savefig(fig_dir / \"EOF_Sample.png\")"
   ]
  },
  {
   "cell_type": "markdown",
   "metadata": {},
   "source": [
    "*Comparison of EOF maps:*"
   ]
  },
  {
   "cell_type": "code",
   "execution_count": null,
   "metadata": {
    "pycharm": {
     "is_executing": true
    }
   },
   "outputs": [],
   "source": [
    "fig = mjoindices.evaluation_tools.plot_individual_eof_map_comparison(orig_eofs.eofdata_for_doy(doy), eofs.eofdata_for_doy(doy), doy)\n",
    "fig.show()\n",
    "fig.savefig(fig_dir / \"EOF_SampleComparison.png\")"
   ]
  },
  {
   "cell_type": "markdown",
   "metadata": {},
   "source": [
    "*Explained variance for a specified number of Eigenvectors (default 10):*\n",
    "\n",
    "The variance for EOF1 and EOF2 should be higher than for the other EOF numbers. The sum over all EOFs should be 1.0."
   ]
  },
  {
   "cell_type": "code",
   "execution_count": null,
   "metadata": {
    "pycharm": {
     "is_executing": true
    }
   },
   "outputs": [],
   "source": [
    "fig = eof.plot_individual_explained_variance_all_eofs(eofs.eofdata_for_doy(doy), doy=doy, max_eof_number=10)\n",
    "fig.show()\n",
    "fig.savefig(fig_dir / \"EOF_SampleExplainedVariance.png\")"
   ]
  },
  {
   "cell_type": "markdown",
   "metadata": {},
   "source": [
    "# Recalculation of the PCs\n",
    "\n",
    "Load the OLR data again, so that this section in independent of the EOF calculation.\n",
    "\n",
    "<span style=\"color:green\">Note that this is the second of two lines that have to be changed if you want to compute OMI for a different OLR dataset: Write a loader function for this dataset and replace the following line with a call of this function.</span>"
   ]
  },
  {
   "cell_type": "code",
   "execution_count": null,
   "metadata": {
    "pycharm": {
     "is_executing": true
    }
   },
   "outputs": [],
   "source": [
    "olr = olr.load_noaa_interpolated_olr(olr_data_filename)"
   ]
  },
  {
   "cell_type": "markdown",
   "metadata": {},
   "source": [
    "Load the EOFs, which have been calculated before (also to be independent of the previous cells)."
   ]
  },
  {
   "cell_type": "code",
   "execution_count": null,
   "metadata": {
    "pycharm": {
     "is_executing": true
    }
   },
   "outputs": [],
   "source": [
    "eofs = eof.restore_all_eofs_from_npzfile(eofnpzfile)"
   ]
  },
  {
   "cell_type": "markdown",
   "metadata": {},
   "source": [
    "Calculate the PCs. Restrict calculation to the length of the original OMI time series.\n",
    "\n",
    "<span style=\"color:red\">This part may take several minutes on a common desktop computer.</span> Skip the following cell, if you have already computed and saved the PCs before."
   ]
  },
  {
   "cell_type": "code",
   "execution_count": null,
   "metadata": {
    "pycharm": {
     "is_executing": true
    }
   },
   "outputs": [],
   "source": [
    "pcs = omi.calculate_pcs_from_olr(olr,\n",
    "                                 eofs,\n",
    "                                 np.datetime64(\"1979-01-01\"),\n",
    "                                 np.datetime64(\"2018-08-28\"),\n",
    "                                 use_quick_temporal_filter=False)\n",
    "pcs.save_pcs_to_txt_file(pctxtfile)"
   ]
  },
  {
   "cell_type": "markdown",
   "metadata": {},
   "source": [
    "## Evaluation of the PCs\n",
    "\n",
    "Load the original PCs for comparison.\n",
    "\n",
    "Also load the recalculated PCs from file first, just in case that they have not been recomputed during this session."
   ]
  },
  {
   "cell_type": "code",
   "execution_count": null,
   "metadata": {
    "pycharm": {
     "is_executing": true
    }
   },
   "outputs": [],
   "source": [
    "pcs = pc.load_pcs_from_txt_file(pctxtfile)\n",
    "orig_pcs = pc.load_original_pcs_from_txt_file(originalOMIPCFile)"
   ]
  },
  {
   "cell_type": "markdown",
   "metadata": {},
   "source": [
    "Plot sample period of the *PC time series*."
   ]
  },
  {
   "cell_type": "code",
   "execution_count": null,
   "metadata": {
    "pycharm": {
     "is_executing": true
    }
   },
   "outputs": [],
   "source": [
    "fig = mjoindices.evaluation_tools.plot_comparison_orig_calc_pcs(pcs, orig_pcs, start_date=pc_plot_period_start, end_date=pc_plot_period_stop)\n",
    "fig.savefig(fig_dir / \"PCs_TimeSeries.png\")\n"
   ]
  },
  {
   "cell_type": "code",
   "execution_count": null,
   "metadata": {
    "pycharm": {
     "is_executing": true
    }
   },
   "outputs": [],
   "source": []
  }
 ],
 "metadata": {
  "kernelspec": {
   "display_name": "Python 3",
   "language": "python",
   "name": "python3"
  },
  "language_info": {
   "codemirror_mode": {
    "name": "ipython",
    "version": 3
   },
   "file_extension": ".py",
   "mimetype": "text/x-python",
   "name": "python",
   "nbconvert_exporter": "python",
   "pygments_lexer": "ipython3",
   "version": "3.6.6"
  },
  "pycharm": {
   "stem_cell": {
    "cell_type": "raw",
    "metadata": {
     "collapsed": false
    },
    "source": []
   }
  }
 },
 "nbformat": 4,
 "nbformat_minor": 2
}
